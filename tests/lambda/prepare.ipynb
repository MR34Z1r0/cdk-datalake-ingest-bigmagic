{
 "cells": [
  {
   "cell_type": "code",
   "execution_count": null,
   "id": "12855257",
   "metadata": {},
   "outputs": [],
   "source": [
    "import logging\n",
    "import os\n",
    "\n",
    "import boto3\n",
    "boto3.setup_default_session(profile_name='prd-valorx-admin')\n",
    "logger = logging.getLogger()\n",
    "logger.setLevel(logging.INFO)\n",
    "\n",
    "\n",
    "def lambda_handler(event, context):\n",
    "    try:\n",
    "        logger.info(\"event : \" + str(event))\n",
    "        client = boto3.resource('dynamodb')\n",
    "        dynamo_table_name = os.getenv('DYNAMO_DB_TABLE')\n",
    "        config_table_metadata = client.Table(dynamo_table_name)\n",
    "        num_tables = int(os.getenv(\"TABLES_PER_TASK\"))\n",
    "        new_tables = []\n",
    "        result = []\n",
    "        array_aux = []\n",
    "        for table in event['dynamodb_key']:\n",
    "            table_data = config_table_metadata.get_item(Key={'TARGET_TABLE_NAME': table})['Item']\n",
    "            if table_data.get('COLUMNS', {'S':''}) != '' or table_data.get('FILTER_COLUMN', {'S':''}) != '' or table_data.get('FILTER_EXP', {'S':''}) != '' or table_data.get('ID_COLUMN', {'S':''}) != '' or table_data.get('JOIN_EXPR', {'S':''}) != '':\n",
    "                result.append({\"type\": \"needs_glue\", \"table\": table})\n",
    "            else:\n",
    "                if len(array_aux) < num_tables:\n",
    "                    array_aux.append(table)\n",
    "                else:\n",
    "                    array_aux.append(table)\n",
    "                    new_tables.append(array_aux)\n",
    "                    array_aux = []\n",
    "\n",
    "        if len(array_aux) != 0:\n",
    "            new_tables.append(array_aux)\n",
    "\n",
    "        if len(new_tables) != 0:\n",
    "            result.append({\"type\": \"dms\", \"table\": new_tables})\n",
    "\n",
    "        return {\n",
    "            'result': \"SUCCEEDED\",\n",
    "            'dynamodb_key': result,\n",
    "            'replication_instance_arn': event['replication_instance_arn'],\n",
    "            'process': event['process']\n",
    "        }\n",
    "    except Exception as e:\n",
    "        logger.info(\"exception : \" + str(e))\n",
    "        return {\n",
    "            'result': \"FAILED\",\n",
    "            'dynamodb_key': [],\n",
    "            'replication_instance_arn': event['replication_instance_arn']\n",
    "        }\n",
    "    "
   ]
  },
  {
   "cell_type": "code",
   "execution_count": 2,
   "id": "588f2e5f",
   "metadata": {},
   "outputs": [
    {
     "data": {
      "text/plain": [
       "{'result': 'FAILED', 'dynamodb_key': [], 'replication_instance_arn': {}}"
      ]
     },
     "execution_count": 2,
     "metadata": {},
     "output_type": "execute_result"
    }
   ],
   "source": [
    "event = {'process': '10', 'replication_instance_arn': {}, 'dynamodb_key': ['PEBDDATA_M_COMPANIA', 'PEBDDATA_T_DOCUMENTO_VENTA', 'PEBDDATA_T_DOCUMENTO_VENTA_DETALLE'], 'execute_raw': False, 'bd_type': 'MSSQL', 'result': 'SUCCEEDED'}\n",
    "lambda_handler(event, None)"
   ]
  }
 ],
 "metadata": {
  "kernelspec": {
   "display_name": "env_llm_upeu",
   "language": "python",
   "name": "python3"
  },
  "language_info": {
   "codemirror_mode": {
    "name": "ipython",
    "version": 3
   },
   "file_extension": ".py",
   "mimetype": "text/x-python",
   "name": "python",
   "nbconvert_exporter": "python",
   "pygments_lexer": "ipython3",
   "version": "3.11.10"
  }
 },
 "nbformat": 4,
 "nbformat_minor": 5
}
